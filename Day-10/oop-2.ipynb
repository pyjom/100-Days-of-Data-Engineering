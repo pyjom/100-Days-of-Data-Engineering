{
 "cells": [
  {
   "cell_type": "code",
   "execution_count": null,
   "metadata": {},
   "outputs": [
    {
     "ename": "",
     "evalue": "",
     "output_type": "error",
     "traceback": [
      "\u001b[1;31mRunning cells with 'c:\\Users\\Jomari Arubio\\100-Days-of-Data-Engineering\\.conda\\python.exe' requires the ipykernel package.\n",
      "\u001b[1;31mRun the following command to install 'ipykernel' into the Python environment. \n",
      "\u001b[1;31mCommand: 'conda install -p c:\\Users\\Jomari Arubio\\100-Days-of-Data-Engineering\\.conda ipykernel --update-deps --force-reinstall'"
     ]
    }
   ],
   "source": [
    "srp = []\n",
    "\n",
    "\n",
    "class Student():\n",
    "    def __init__(self, name, course, year, section):\n",
    "        self.name = name\n",
    "        self.course = course\n",
    "        self.year = year\n",
    "        self.section = section\n",
    "\n",
    "while True:\n",
    "    n = input('Please Enter your Name: ')\n",
    "    c = input('Program: ')\n",
    "    y = input('Year: ')\n",
    "    s = input('Section: ')\n",
    "    # calling the class\n",
    "    stu_data = Student(n,c,y,s) \n",
    "    # store the stu_data to the list\n",
    "    srp.append(stu_data)\n",
    "\n",
    "    ngi = input('\\n Create another student? [Y/Any char]').lower()\n",
    "    if ngi != 'y':\n",
    "        break\n",
    "    \n",
    "\n",
    "print(srp)\n"
   ]
  },
  {
   "cell_type": "code",
   "execution_count": null,
   "metadata": {},
   "outputs": [],
   "source": []
  }
 ],
 "metadata": {
  "kernelspec": {
   "display_name": "base",
   "language": "python",
   "name": "python3"
  },
  "language_info": {
   "name": "python",
   "version": "3.11.8"
  }
 },
 "nbformat": 4,
 "nbformat_minor": 2
}

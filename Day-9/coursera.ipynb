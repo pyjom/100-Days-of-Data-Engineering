{
 "cells": [
  {
   "cell_type": "code",
   "execution_count": 1,
   "metadata": {},
   "outputs": [
    {
     "name": "stdout",
     "output_type": "stream",
     "text": [
      "Hello World\n"
     ]
    }
   ],
   "source": [
    "print('Hello World')"
   ]
  },
  {
   "cell_type": "code",
   "execution_count": 25,
   "metadata": {},
   "outputs": [
    {
     "name": "stdout",
     "output_type": "stream",
     "text": [
      "{'do': 1, 'you': 2, 'know': 2, 'that': 1, 'i': 1, 'love': 1, 'please': 1}\n"
     ]
    }
   ],
   "source": [
    "words = input('Please enter your text here: ')\n",
    "words = split_paragraph(words)\n",
    "\n",
    "count={}\n",
    "for i in words:\n",
    "    count[i] = count.get(i, 0) + 1\n",
    "\n",
    "print(count)"
   ]
  },
  {
   "cell_type": "code",
   "execution_count": 3,
   "metadata": {},
   "outputs": [
    {
     "name": "stdout",
     "output_type": "stream",
     "text": [
      "['ang', 'pagibig', 'ay', 'sadyang', 'ganyan,', 'pero', 'ang', 'pagibig', 'ay', 'hindi', 'madali']\n"
     ]
    }
   ],
   "source": [
    "print(words)"
   ]
  },
  {
   "cell_type": "markdown",
   "metadata": {},
   "source": [
    "Problem: How to handle comma, period etc. \n",
    "- based on my research the module re (regular expression) will be a helpful tool in handling such problems\n",
    "- pattern = r'\\s+|,\\s*|!\\s*|-'  \n",
    "\n",
    "    a. \\s+ = (\\s) specifies whitespace, (+) means on one or more occurence of whitespace characters\n",
    "    \n",
    "    b. ,\\s* = (,) comma, (\\s*) followed by ZERO or more whitespace characters\n",
    "    \n",
    "    c. !\\s* = (!) exclamation points, (\\s*) followed by zero or more whitespace characters\n",
    "    \n",
    "    d. word.strip(.?) = here period will be removed, question mark will also be removed\n",
    "\n",
    "    e. Its very important not to include spaces between the pattern, as this will create significant changes in the output"
   ]
  },
  {
   "cell_type": "code",
   "execution_count": 46,
   "metadata": {},
   "outputs": [
    {
     "name": "stdout",
     "output_type": "stream",
     "text": [
      ".ngi. .ngi.?\n",
      "['ngi', 'ngi']\n"
     ]
    }
   ],
   "source": [
    "import re\n",
    "\n",
    "def split_paragraph(paragraph):\n",
    "    pattern = r'\\s+|,\\s*|!\\s*'\n",
    "    # Splitting using the re module\n",
    "    words = re.split(pattern, paragraph)\n",
    "    # Remove empty strings from the list of words\n",
    "    # Remove period and question mark from the end of each word\n",
    "    words = [word.strip('.?') for word in words if word] \n",
    "    \n",
    "    return words\n",
    "\n",
    "# # Trying it for testrun\n",
    "user = input('Please input your text: ')\n",
    "print(user)\n",
    "words = split_paragraph(user)\n",
    "print(words)\n"
   ]
  },
  {
   "cell_type": "markdown",
   "metadata": {},
   "source": [
    "Final program"
   ]
  },
  {
   "cell_type": "code",
   "execution_count": 47,
   "metadata": {},
   "outputs": [
    {
     "name": "stdout",
     "output_type": "stream",
     "text": [
      "{'Now': 1, 'when': 1, 'you': 1, 'call': 1, 'the': 3, 'split_paragraph': 1, 'function': 1, 'it': 1, 'will': 1, 'split': 1, 'paragraph': 1, 'into': 1, 'words': 1, 'and': 2, 'remove': 1, 'both': 1, 'periods': 1, 'question': 1, 'marks': 1, 'from': 1, 'end': 1, 'of': 1, 'each': 1, 'word': 1}\n"
     ]
    }
   ],
   "source": [
    "words = input('Please enter your text here: ')\n",
    "words = split_paragraph(words)\n",
    "\n",
    "count={}\n",
    "for i in words:\n",
    "    count[i] = count.get(i, 0) + 1\n",
    "\n",
    "print(count)"
   ]
  },
  {
   "cell_type": "markdown",
   "metadata": {},
   "source": [
    "Trying out tuples"
   ]
  },
  {
   "cell_type": "code",
   "execution_count": 48,
   "metadata": {},
   "outputs": [
    {
     "data": {
      "text/plain": [
       "dict"
      ]
     },
     "execution_count": 48,
     "metadata": {},
     "output_type": "execute_result"
    }
   ],
   "source": [
    "type(count)"
   ]
  },
  {
   "cell_type": "code",
   "execution_count": 58,
   "metadata": {},
   "outputs": [
    {
     "data": {
      "text/plain": [
       "dict_items([('Now', 1), ('when', 1), ('you', 1), ('call', 1), ('the', 3), ('split_paragraph', 1), ('function', 1), ('it', 1), ('will', 1), ('split', 1), ('paragraph', 1), ('into', 1), ('words', 1), ('and', 2), ('remove', 1), ('both', 1), ('periods', 1), ('question', 1), ('marks', 1), ('from', 1), ('end', 1), ('of', 1), ('each', 1), ('word', 1)])"
      ]
     },
     "execution_count": 58,
     "metadata": {},
     "output_type": "execute_result"
    }
   ],
   "source": [
    "count.items()"
   ]
  },
  {
   "cell_type": "code",
   "execution_count": 63,
   "metadata": {},
   "outputs": [],
   "source": [
    "# sorting via key\n",
    "# count.items() will return a list of tuples\n",
    "\n",
    "sor = sorted(count.items())\n",
    "for key, value in sorted(count.items()):\n",
    "    print(key,value)"
   ]
  },
  {
   "cell_type": "code",
   "execution_count": 72,
   "metadata": {},
   "outputs": [
    {
     "name": "stdout",
     "output_type": "stream",
     "text": [
      "[(3, 'the'), (2, 'and'), (1, 'you'), (1, 'words'), (1, 'word'), (1, 'will'), (1, 'when'), (1, 'split_paragraph'), (1, 'split'), (1, 'remove'), (1, 'question'), (1, 'periods'), (1, 'paragraph'), (1, 'of'), (1, 'marks'), (1, 'it'), (1, 'into'), (1, 'function'), (1, 'from'), (1, 'end'), (1, 'each'), (1, 'call'), (1, 'both'), (1, 'Now')]\n"
     ]
    }
   ],
   "source": [
    "# sorting via value\n",
    "temp = list()\n",
    "for a, b in count.items():\n",
    "    temp.append((b, a))\n",
    "\n",
    "temp = sorted(temp, reverse=True)\n",
    "print(temp)\n"
   ]
  },
  {
   "cell_type": "code",
   "execution_count": 82,
   "metadata": {},
   "outputs": [
    {
     "name": "stdout",
     "output_type": "stream",
     "text": [
      "the 3\n",
      "and 2\n",
      "you 1\n",
      "words 1\n",
      "word 1\n",
      "will 1\n",
      "when 1\n",
      "split_paragraph 1\n",
      "split 1\n",
      "remove 1\n"
     ]
    }
   ],
   "source": [
    "# doint it all\n",
    "lst = list()\n",
    "for key, value in count.items():\n",
    "    new = (value, key) # creating a tuple where value is the first and key the second\n",
    "    lst.append(new) # inserting the tuple in list\n",
    "\n",
    "lst = sorted(lst, reverse=True) # sorting the list from biggest to smallest\n",
    "\n",
    "for value, key in lst[:10]: #choosing the top 10 most used words\n",
    "    print(key, value)\n"
   ]
  },
  {
   "cell_type": "code",
   "execution_count": 79,
   "metadata": {},
   "outputs": [
    {
     "data": {
      "text/plain": [
       "[(3, 'the'),\n",
       " (2, 'and'),\n",
       " (1, 'you'),\n",
       " (1, 'words'),\n",
       " (1, 'word'),\n",
       " (1, 'will'),\n",
       " (1, 'when'),\n",
       " (1, 'split_paragraph'),\n",
       " (1, 'split'),\n",
       " (1, 'remove'),\n",
       " (1, 'question'),\n",
       " (1, 'periods'),\n",
       " (1, 'paragraph'),\n",
       " (1, 'of'),\n",
       " (1, 'marks'),\n",
       " (1, 'it'),\n",
       " (1, 'into'),\n",
       " (1, 'function'),\n",
       " (1, 'from'),\n",
       " (1, 'end'),\n",
       " (1, 'each'),\n",
       " (1, 'call'),\n",
       " (1, 'both'),\n",
       " (1, 'Now')]"
      ]
     },
     "execution_count": 79,
     "metadata": {},
     "output_type": "execute_result"
    }
   ],
   "source": [
    "lst"
   ]
  },
  {
   "cell_type": "code",
   "execution_count": null,
   "metadata": {},
   "outputs": [],
   "source": []
  }
 ],
 "metadata": {
  "kernelspec": {
   "display_name": "base",
   "language": "python",
   "name": "python3"
  },
  "language_info": {
   "codemirror_mode": {
    "name": "ipython",
    "version": 3
   },
   "file_extension": ".py",
   "mimetype": "text/x-python",
   "name": "python",
   "nbconvert_exporter": "python",
   "pygments_lexer": "ipython3",
   "version": "3.9.13"
  }
 },
 "nbformat": 4,
 "nbformat_minor": 2
}

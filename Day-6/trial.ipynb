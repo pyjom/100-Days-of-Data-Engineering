{
 "cells": [
  {
   "cell_type": "code",
   "execution_count": 10,
   "metadata": {},
   "outputs": [],
   "source": [
    "def throw_hand(option):\n",
    "    if option.lower()[0] not in ['r', 'p', 's']:\n",
    "        print('''You entered an incorrect option. Please choose [R]ock, [P]aper, [S]cissor. ''')\n",
    "    else:\n",
    "        print('You chose ' + option)\n",
    "        return"
   ]
  },
  {
   "cell_type": "code",
   "execution_count": 11,
   "metadata": {},
   "outputs": [
    {
     "name": "stdout",
     "output_type": "stream",
     "text": [
      "You chose ROCK\n"
     ]
    }
   ],
   "source": [
    "throw_hand('ROCK')"
   ]
  },
  {
   "cell_type": "code",
   "execution_count": null,
   "metadata": {},
   "outputs": [],
   "source": [
    "def decision(player_hand, bot_hand): #function for the decision, eg. if player is rock and bot is paper what will happen?\n",
    "    if player_hand == bot_hand:\n",
    "        return 'tie'\n",
    "    \n",
    "    #defining winning scenarios\n",
    "    if player_hand == 'r' and bot_hand == 's':\n",
    "        return 'You win!'\n",
    "    if player_hand == 'p' and bot_hand == 'r':\n",
    "        return 'You win!'\n",
    "    if player_hand == 's' and bot_hand == 'p':\n",
    "        return 'You win!'"
   ]
  },
  {
   "cell_type": "code",
   "execution_count": 9,
   "metadata": {},
   "outputs": [],
   "source": [
    "#better way to write the function\n",
    "\n",
    "def decision(player_hand, bot_hand): #function for the decision, eg. if player is rock and bot is paper what will happen?\n",
    "    if player_hand == bot_hand:\n",
    "        return 'tie'\n",
    "    \n",
    "    #defining winning scenarios\n",
    "    #beware of the indention\n",
    "    if (player_hand == 'r' and bot_hand == 's') or \\\n",
    "        (player_hand == 'p' and bot_hand == 'r') or \\\n",
    "        (player_hand == 's' and bot_hand == 'p'):\n",
    "        return 'You win!'\n",
    "    else:\n",
    "        return 'Ngi, talo!'\n",
    "\n"
   ]
  },
  {
   "cell_type": "markdown",
   "metadata": {},
   "source": [
    "#### Note\n",
    "if __name__ == '__main__': = it only run at the same file\n",
    "    "
   ]
  },
  {
   "cell_type": "code",
   "execution_count": null,
   "metadata": {},
   "outputs": [],
   "source": [
    "# Note\n",
    "if __name__ == '__main__':\n",
    "    "
   ]
  }
 ],
 "metadata": {
  "kernelspec": {
   "display_name": "base",
   "language": "python",
   "name": "python3"
  },
  "language_info": {
   "codemirror_mode": {
    "name": "ipython",
    "version": 3
   },
   "file_extension": ".py",
   "mimetype": "text/x-python",
   "name": "python",
   "nbconvert_exporter": "python",
   "pygments_lexer": "ipython3",
   "version": "3.9.13"
  }
 },
 "nbformat": 4,
 "nbformat_minor": 2
}

{
 "cells": [
  {
   "cell_type": "code",
   "execution_count": 1,
   "metadata": {},
   "outputs": [],
   "source": [
    "def throw_hand(option):\n",
    "    if option.lower()[0] not in ['r', 'p', 's']:\n",
    "        print('''You entered an incorrect option. Please choose [R]ock, [P]aper, [S]cissor. ''')\n",
    "    else:\n",
    "        print('You chose ' + option)\n",
    "        return"
   ]
  },
  {
   "cell_type": "code",
   "execution_count": 2,
   "metadata": {},
   "outputs": [
    {
     "name": "stdout",
     "output_type": "stream",
     "text": [
      "You entered an incorrect option. Please choose [R]ock, [P]aper, [S]cissor. \n"
     ]
    }
   ],
   "source": [
    "throw_hand('ngi')"
   ]
  },
  {
   "cell_type": "code",
   "execution_count": null,
   "metadata": {},
   "outputs": [],
   "source": [
    "def decision(player_hand, bot_hand): #function for the decision, eg. if player is rock and bot is paper what will happen?\n",
    "    if player_hand == bot_hand:\n",
    "        return 'tie'\n",
    "    \n",
    "    #defining winning scenarios\n",
    "    if player_hand == 'r' and bot_hand == 's':\n",
    "        return 'You win!'\n",
    "    if player_hand == 'p' and bot_hand == 'r':\n",
    "        return 'You win!'\n",
    "    if player_hand == 's' and bot_hand == 'p':\n",
    "        return 'You win!'"
   ]
  },
  {
   "cell_type": "code",
   "execution_count": 24,
   "metadata": {},
   "outputs": [],
   "source": [
    "#better way to write the function\n",
    "\n",
    "def decision(player_hand, bot_hand): #function for the decision, eg. if player is rock and bot is paper what will happen?\n",
    "    if player_hand == bot_hand:\n",
    "        return 'tie'\n",
    "    \n",
    "    #defining winning scenarios\n",
    "    #beware of the indention\n",
    "    if (player_hand == 'r' and bot_hand == 's') or \\\n",
    "        (player_hand == 'p' and bot_hand == 'r') or \\\n",
    "        (player_hand == 's' and bot_hand == 'p'):\n",
    "        return 'You win!'\n",
    "    else:\n",
    "        return 'Ngi, talo!'\n",
    "    return\n",
    "\n"
   ]
  },
  {
   "cell_type": "code",
   "execution_count": 25,
   "metadata": {},
   "outputs": [
    {
     "name": "stdout",
     "output_type": "stream",
     "text": [
      "Ngi, talo!\n",
      "tie\n"
     ]
    }
   ],
   "source": [
    "print(decision('s','r'))\n",
    "print(decision('r','r'))"
   ]
  },
  {
   "cell_type": "code",
   "execution_count": null,
   "metadata": {},
   "outputs": [],
   "source": []
  },
  {
   "cell_type": "markdown",
   "metadata": {},
   "source": [
    "#### Note\n",
    "if __name__ == '__main__': = it only run at the same file\n",
    "    "
   ]
  },
  {
   "cell_type": "code",
   "execution_count": null,
   "metadata": {},
   "outputs": [],
   "source": [
    "# Note\n",
    "if __name__ == '__main__':\n",
    "    "
   ]
  },
  {
   "cell_type": "code",
   "execution_count": 5,
   "metadata": {},
   "outputs": [
    {
     "data": {
      "text/plain": [
       "'p'"
      ]
     },
     "execution_count": 5,
     "metadata": {},
     "output_type": "execute_result"
    }
   ],
   "source": [
    "from random import randint\n",
    "options = ['r', 'p', 's'] \n",
    "options[randint(0,2)] "
   ]
  },
  {
   "cell_type": "code",
   "execution_count": null,
   "metadata": {},
   "outputs": [],
   "source": [
    "options_dict =  {'r':'rock', 'p':'paper', 's':'scissor'} "
   ]
  },
  {
   "cell_type": "code",
   "execution_count": 19,
   "metadata": {},
   "outputs": [],
   "source": [
    "class Player:\n",
    "    def __init__(self, name): #score is not included because you already know what it is, unlike the player name\n",
    "        self.name =name\n",
    "        self.score =0 #the starting score is zero"
   ]
  },
  {
   "cell_type": "code",
   "execution_count": 40,
   "metadata": {},
   "outputs": [
    {
     "name": "stdout",
     "output_type": "stream",
     "text": [
      "Please choose properly\n",
      "Please choose properly\n",
      "Please choose properly\n",
      "Please choose properly\n",
      "Please choose properly\n",
      "No one won the tournament.\n",
      "The game has ended\n"
     ]
    }
   ],
   "source": [
    "options_dict =  {'r':'rock', 'p':'paper', 's':'scissor'} \n",
    "good = Player('jom')\n",
    "bad = Player('Master BOT')\n",
    "for i in range(5):\n",
    "    player_hand = input('Please choose [R]ock, [P]aper, [S]cissor: ').lower()\n",
    "    if (player_hand != 'p') or (player_hand != 'r') or (player_hand!= 's'):\n",
    "        print('Please choose properly')\n",
    "    else:\n",
    "        bot_hand = options[randint(0,2)]\n",
    "        print('Player selected: ' + (options_dict)[player_hand])\n",
    "        print('Master BOT selected: '+ (options_dict)[bot_hand])\n",
    "        decision(player_hand, bot_hand)\n",
    "        status = decision(player_hand, bot_hand)\n",
    "        if status == 'You win!':\n",
    "            good.score +=1\n",
    "        elif status == 'Ngi, talo!':\n",
    "            bad.score +=1\n",
    "\n",
    "\n",
    "if good.score > bad.score:\n",
    "    print('CONGRATULATION! You won the tournament, you defeated the master BOT')\n",
    "if good.score < bad.score:\n",
    "    print('TOO BAD! You lost the tournament:>')\n",
    "else:\n",
    "    print('No one won the tournament.')\n",
    "\n",
    "print('The game has ended')\n"
   ]
  },
  {
   "cell_type": "code",
   "execution_count": null,
   "metadata": {},
   "outputs": [],
   "source": []
  },
  {
   "cell_type": "code",
   "execution_count": 20,
   "metadata": {},
   "outputs": [
    {
     "data": {
      "text/plain": [
       "'rock'"
      ]
     },
     "execution_count": 20,
     "metadata": {},
     "output_type": "execute_result"
    }
   ],
   "source": [
    "options_dict['r']"
   ]
  },
  {
   "cell_type": "code",
   "execution_count": null,
   "metadata": {},
   "outputs": [],
   "source": []
  }
 ],
 "metadata": {
  "kernelspec": {
   "display_name": "base",
   "language": "python",
   "name": "python3"
  },
  "language_info": {
   "codemirror_mode": {
    "name": "ipython",
    "version": 3
   },
   "file_extension": ".py",
   "mimetype": "text/x-python",
   "name": "python",
   "nbconvert_exporter": "python",
   "pygments_lexer": "ipython3",
   "version": "3.9.13"
  }
 },
 "nbformat": 4,
 "nbformat_minor": 2
}

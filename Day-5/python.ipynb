{
 "cells": [
  {
   "cell_type": "markdown",
   "metadata": {},
   "source": [
    "### Variables\n",
    "\n",
    "Rule \n",
    "* A variable name must start with a letter or underscore character, but not a number\n",
    "    * snake_case = standard for function, variable, method, module, package\n",
    "    * UPPER_CASE = used for constant variables, like pi, euler number\n",
    "    * camelCase or pascalCase = used in class, where the firsts letter is in lowercase\n",
    "* Use = to assign values to variables\n",
    "    "
   ]
  },
  {
   "cell_type": "code",
   "execution_count": 40,
   "metadata": {},
   "outputs": [
    {
     "name": "stdout",
     "output_type": "stream",
     "text": [
      " Arubio\n",
      " Jom\n",
      " R.   \n"
     ]
    }
   ],
   "source": [
    "# Assigning multiple values\n",
    "\n",
    "last_name, first_name, middle_name = ' Arubio', ' Jom', ' R.   '\n",
    "\n",
    "print(last_name)\n",
    "print(first_name)\n",
    "print(middle_name)"
   ]
  },
  {
   "cell_type": "code",
   "execution_count": 41,
   "metadata": {},
   "outputs": [],
   "source": [
    "full_name = last_name + first_name + middle_name \n"
   ]
  },
  {
   "cell_type": "markdown",
   "metadata": {},
   "source": [
    "### Data Types and methods\n",
    "* Text Type: str\n",
    "* Numeric Types: int, float, complex\n",
    "* Sequence Types: list, tuple, range\n",
    "* Mapping Types: dict\n",
    "* Set Types: set, frozenset\n",
    "* Boolean Type: bool\n",
    "* Binary Types: bytes, bytearray, memoryview\n",
    "* None Type: NoneType"
   ]
  },
  {
   "cell_type": "code",
   "execution_count": 21,
   "metadata": {},
   "outputs": [
    {
     "name": "stdout",
     "output_type": "stream",
     "text": [
      "<class 'str'>\n",
      "<class 'int'>\n",
      "<class 'list'>\n",
      "<class 'dict'>\n",
      "<class 'bool'>\n",
      "<class 'NoneType'>\n"
     ]
    }
   ],
   "source": [
    "# Data types examples\n",
    "name = 'Jom'\n",
    "age = 22\n",
    "jobss = ['student', 'none']\n",
    "job_duration ={\n",
    "    'jobs': jobss, \n",
    "    \"job_duration\": [4, 0]\n",
    "}\n",
    "currently_employed: False\n",
    "with_criminal_recode: None\n",
    "\n",
    "# Pringintg data types\n",
    "print(type(name))\n",
    "print(type(age))\n",
    "print(type(jobss))\n",
    "print(type(job_duration))\n",
    "print(type(currently_employed))\n",
    "print(type(with_criminal_recode))"
   ]
  },
  {
   "cell_type": "code",
   "execution_count": 23,
   "metadata": {},
   "outputs": [
    {
     "data": {
      "text/plain": [
       "float"
      ]
     },
     "execution_count": 23,
     "metadata": {},
     "output_type": "execute_result"
    }
   ],
   "source": [
    "# Converting int to float type\n",
    "\n",
    "age = float(age)\n",
    "type(age)"
   ]
  },
  {
   "cell_type": "code",
   "execution_count": 24,
   "metadata": {},
   "outputs": [
    {
     "data": {
      "text/plain": [
       "False"
      ]
     },
     "execution_count": 24,
     "metadata": {},
     "output_type": "execute_result"
    }
   ],
   "source": [
    "currently_employed"
   ]
  },
  {
   "cell_type": "code",
   "execution_count": 31,
   "metadata": {},
   "outputs": [
    {
     "data": {
      "text/plain": [
       "True"
      ]
     },
     "execution_count": 31,
     "metadata": {},
     "output_type": "execute_result"
    }
   ],
   "source": [
    "bool(\"0\")"
   ]
  },
  {
   "cell_type": "markdown",
   "metadata": {},
   "source": [
    "##### Strings functions\n",
    "* .lower and .upper\n",
    "* .strip = to remove leading and trailing spaces"
   ]
  },
  {
   "cell_type": "code",
   "execution_count": 42,
   "metadata": {},
   "outputs": [
    {
     "name": "stdout",
     "output_type": "stream",
     "text": [
      "JOM\n",
      " Arubio Jom R.   \n",
      "Arubio Jom R.\n"
     ]
    }
   ],
   "source": [
    "print(name.upper())\n",
    "print(full_name)\n",
    "print(full_name.strip())"
   ]
  },
  {
   "cell_type": "code",
   "execution_count": 44,
   "metadata": {},
   "outputs": [
    {
     "name": "stdout",
     "output_type": "stream",
     "text": [
      "ARUBIO JOMARI R.\n"
     ]
    }
   ],
   "source": [
    "# Using .replace\n",
    "print(full_name.replace('Jom', 'Jomari').upper().strip()) # can used multiple function pala"
   ]
  },
  {
   "cell_type": "markdown",
   "metadata": {},
   "source": [
    "#### Operators\n",
    "* Arithmetic +, -, *, /, %, **, //\n",
    "* Assignment =, +=, -+ etc.\n",
    "* Comparison ==, !=, >=, <=,>, <\n",
    "* Logical and, or, not\n",
    "* Identity is, is not\n",
    "* Membership in, not in\n",
    "* Bitwise %,v|, ^, ~, <<, >>"
   ]
  },
  {
   "cell_type": "code",
   "execution_count": 47,
   "metadata": {},
   "outputs": [
    {
     "name": "stdout",
     "output_type": "stream",
     "text": [
      "21.0\n"
     ]
    }
   ],
   "source": [
    "age -= 1\n",
    "print(age)"
   ]
  },
  {
   "cell_type": "code",
   "execution_count": 53,
   "metadata": {},
   "outputs": [
    {
     "data": {
      "text/plain": [
       "False"
      ]
     },
     "execution_count": 53,
     "metadata": {},
     "output_type": "execute_result"
    }
   ],
   "source": [
    "1000 == 1001"
   ]
  },
  {
   "cell_type": "code",
   "execution_count": 54,
   "metadata": {},
   "outputs": [
    {
     "name": "stdout",
     "output_type": "stream",
     "text": [
      "Hello World, Hello World, Hello World, Hello World, Hello World, \n"
     ]
    }
   ],
   "source": [
    "# Multiplying a string to a number\n",
    "print('Hello World, ' * 5) "
   ]
  },
  {
   "cell_type": "markdown",
   "metadata": {},
   "source": [
    "#### List and Index"
   ]
  },
  {
   "cell_type": "code",
   "execution_count": 63,
   "metadata": {},
   "outputs": [
    {
     "name": "stdout",
     "output_type": "stream",
     "text": [
      "pinya\n",
      "['pinya', 'bagoong', 'kutsilyo', 'pinggan']\n",
      "['pinya', 'bagoong', 'pinggan']\n"
     ]
    }
   ],
   "source": [
    "basket = ['pinya', 'bagoong', 'kutsilyo']\n",
    "print(basket[0])\n",
    "basket.append('pinggan')\n",
    "print(basket)\n",
    "basket.remove('kutsilyo') # Pwede na pala kahit ganito\n",
    "print(basket)"
   ]
  },
  {
   "cell_type": "markdown",
   "metadata": {},
   "source": [
    "#### Dictionary\n",
    "- treat it just like a table in excel\n",
    "- column name is called key"
   ]
  },
  {
   "cell_type": "code",
   "execution_count": 66,
   "metadata": {},
   "outputs": [],
   "source": [
    "person = {\n",
    "    'name': ['Jom', 'Lunox', 'Alucard'],\n",
    "    'power': ['air', 'fire'],\n",
    "    'sex': ['M', 'F', 'M']\n",
    "}"
   ]
  },
  {
   "cell_type": "code",
   "execution_count": 70,
   "metadata": {},
   "outputs": [
    {
     "data": {
      "text/plain": [
       "{'name': ['Jom', 'Lunox', 'Alucard'],\n",
       " 'power': ['air', 'fire'],\n",
       " 'sex': ['M', 'F', 'M']}"
      ]
     },
     "execution_count": 70,
     "metadata": {},
     "output_type": "execute_result"
    }
   ],
   "source": [
    "person"
   ]
  },
  {
   "cell_type": "code",
   "execution_count": 81,
   "metadata": {},
   "outputs": [
    {
     "name": "stdout",
     "output_type": "stream",
     "text": [
      "Jom\n",
      "<class 'dict'>\n",
      "<class 'list'>\n",
      "<class 'str'>\n"
     ]
    }
   ],
   "source": [
    "print(person['name'][0])\n",
    "\n",
    "print(type(person))\n",
    "print(type(person['name']))\n",
    "print(type(person['name'][1]))"
   ]
  },
  {
   "cell_type": "code",
   "execution_count": 87,
   "metadata": {},
   "outputs": [
    {
     "data": {
      "text/plain": [
       "{'name': ['Jom', 'Lunox', 'Alucard'],\n",
       " 'power': ['air', 'fire', 'martial arts'],\n",
       " 'sex': ['M', 'F', 'M'],\n",
       " 'school': 'PUP'}"
      ]
     },
     "execution_count": 87,
     "metadata": {},
     "output_type": "execute_result"
    }
   ],
   "source": [
    "# adding power\n",
    "# we use append because inside the dictionary, the power is a list or multiple value na siya.\n",
    "person['power'].append('martial arts')\n",
    "\n",
    "# adding new key/ column\n",
    "person['school'] ='PUP'\n",
    "person"
   ]
  },
  {
   "cell_type": "markdown",
   "metadata": {},
   "source": [
    "#### if-else"
   ]
  },
  {
   "cell_type": "code",
   "execution_count": 88,
   "metadata": {},
   "outputs": [
    {
     "name": "stdout",
     "output_type": "stream",
     "text": [
      "Color is red\n"
     ]
    }
   ],
   "source": [
    "x = 'red'\n",
    "\n",
    "if x == 'red':\n",
    "    print('Color is red')\n",
    "elif x == 'blue':\n",
    "    print('Color is blue')\n",
    "else:\n",
    "    print('Color is neither blur nor red')"
   ]
  },
  {
   "cell_type": "markdown",
   "metadata": {},
   "source": [
    "#### loops, for, while\n",
    "\n",
    "\n"
   ]
  },
  {
   "cell_type": "code",
   "execution_count": 92,
   "metadata": {},
   "outputs": [
    {
     "name": "stdout",
     "output_type": "stream",
     "text": [
      "ngi\n",
      "ngi\n",
      "ngi\n",
      "ngi\n",
      "ngi\n"
     ]
    }
   ],
   "source": [
    "# using for loop, more efficient and more control\n",
    "for i in range(5):\n",
    "    print('ngi')"
   ]
  },
  {
   "cell_type": "code",
   "execution_count": 95,
   "metadata": {},
   "outputs": [
    {
     "name": "stdout",
     "output_type": "stream",
     "text": [
      "The value of x is: 0\n",
      "The value of x is: 1\n",
      "The value of x is: 2\n",
      "The value of x is: 3\n",
      "The value of x is: 4\n",
      "Finally, the value is 5\n"
     ]
    }
   ],
   "source": [
    "# using while loop\n",
    "\n",
    "x = 0\n",
    "while x < 5:\n",
    "    print('The value of x is:' , x)    \n",
    "    x +=1\n",
    "print('Finally, the value is', x)"
   ]
  },
  {
   "cell_type": "markdown",
   "metadata": {},
   "source": [
    "#### Function"
   ]
  },
  {
   "cell_type": "code",
   "execution_count": 101,
   "metadata": {},
   "outputs": [],
   "source": [
    "def introduce(name, age, profession):\n",
    "    print('Hello, my name is ' + name)\n",
    "    print('I am, ' + str(age) + ' years old')\n",
    "    print('I am working as a ' + profession)\n"
   ]
  },
  {
   "cell_type": "code",
   "execution_count": 103,
   "metadata": {},
   "outputs": [
    {
     "name": "stdout",
     "output_type": "stream",
     "text": [
      "Hello, my name is John Jomari\n",
      "I am, 22 years old\n",
      "I am working as a freelancer\n"
     ]
    }
   ],
   "source": [
    "# calling/ using the function\n",
    "introduce('John Jomari', 22, 'freelancer') #input the three required input"
   ]
  },
  {
   "cell_type": "code",
   "execution_count": 105,
   "metadata": {},
   "outputs": [
    {
     "name": "stdout",
     "output_type": "stream",
     "text": [
      "Hello, my name is John Jomari\n",
      "I am, 22 years old\n",
      "I am working as a freelancer\n"
     ]
    }
   ],
   "source": [
    "# incase it is rumbled, but it is not a good practice\n",
    "introduce(profession='freelancer', age =22, name ='John Jomari')"
   ]
  },
  {
   "cell_type": "code",
   "execution_count": 114,
   "metadata": {},
   "outputs": [],
   "source": [
    "def introduce(name, age, profession=None, employed=True): #default value is true\n",
    "    print('Hello, my name is ' + name)\n",
    "    print('I am ' + str(age) + ' years old')\n",
    "    \n",
    "    if employed:\n",
    "        print('I am working as a ' + profession)\n",
    "        print('I am employed')\n",
    "    else:\n",
    "        print('I am finding a job')\n"
   ]
  },
  {
   "cell_type": "code",
   "execution_count": 117,
   "metadata": {},
   "outputs": [
    {
     "name": "stdout",
     "output_type": "stream",
     "text": [
      "Hello, my name is John Jomari\n",
      "I am 22 years old\n",
      "I am finding a job\n"
     ]
    }
   ],
   "source": [
    "introduce('John Jomari', 22, 'freelancer', False) # here, since nilagay na False, hindi magpprint yung job"
   ]
  },
  {
   "cell_type": "code",
   "execution_count": 116,
   "metadata": {},
   "outputs": [
    {
     "name": "stdout",
     "output_type": "stream",
     "text": [
      "Hello, my name is John Jomari\n",
      "I am 22 years old\n",
      "I am working as a freelancer\n",
      "I am employed\n"
     ]
    }
   ],
   "source": [
    "introduce('John Jomari', 22, 'freelancer') "
   ]
  },
  {
   "cell_type": "markdown",
   "metadata": {},
   "source": [
    "#### Class"
   ]
  },
  {
   "cell_type": "code",
   "execution_count": 121,
   "metadata": {},
   "outputs": [],
   "source": [
    "class Person: #nakauppercase na siya since class na ito.\n",
    "\n",
    "    def __init__(self, name, age, employed=True, profession=None):\n",
    "        self.name = name\n",
    "        self.age = age\n",
    "        self.employed = employed\n",
    "        self.profession = profession"
   ]
  },
  {
   "cell_type": "code",
   "execution_count": 122,
   "metadata": {},
   "outputs": [],
   "source": [
    "mr_bean = Person(name='Mr. Bean', age=44, employed='True', profession='Comedian')"
   ]
  },
  {
   "cell_type": "code",
   "execution_count": 126,
   "metadata": {},
   "outputs": [
    {
     "data": {
      "text/plain": [
       "'Mr. Bean'"
      ]
     },
     "execution_count": 126,
     "metadata": {},
     "output_type": "execute_result"
    }
   ],
   "source": [
    "# What is your name?\n",
    "mr_bean.name"
   ]
  },
  {
   "cell_type": "code",
   "execution_count": 124,
   "metadata": {},
   "outputs": [
    {
     "data": {
      "text/plain": [
       "44"
      ]
     },
     "execution_count": 124,
     "metadata": {},
     "output_type": "execute_result"
    }
   ],
   "source": [
    "# Mr bean, how old are you?\n",
    "mr_bean.age"
   ]
  },
  {
   "cell_type": "code",
   "execution_count": 125,
   "metadata": {},
   "outputs": [
    {
     "data": {
      "text/plain": [
       "'True'"
      ]
     },
     "execution_count": 125,
     "metadata": {},
     "output_type": "execute_result"
    }
   ],
   "source": [
    "#Mr bean, are you employed\n",
    "mr_bean.employed\n"
   ]
  },
  {
   "cell_type": "code",
   "execution_count": 145,
   "metadata": {},
   "outputs": [],
   "source": [
    "# making the code more complex\n",
    "# print('I am ' + str(self.age) + ' years old') --> print(f'I am {self.age} years old')\n",
    "\n",
    "class Person: #nakauppercase na siya since class na ito.\n",
    "\n",
    "    def __init__(self, name, age, employed=True, profession=None):\n",
    "        self.name = name\n",
    "        self.age = age\n",
    "        self.employed = employed\n",
    "        self.profession = profession\n",
    "\n",
    "    def introduce(self): # i connect mo na itong function sa class, using self\n",
    "        print('Hello, my name is ' + self.name) # para maacess yung name sa class, need maglagay ng self.name\n",
    "        print(f'I am {self.age} years old')\n",
    "        if self.employed:\n",
    "            print('I am working as a ' + self.profession)\n",
    "            print('I am employed')\n",
    "        else:\n",
    "            print('I am finding a job')\n",
    "\n"
   ]
  },
  {
   "cell_type": "markdown",
   "metadata": {},
   "source": []
  },
  {
   "cell_type": "code",
   "execution_count": 146,
   "metadata": {},
   "outputs": [],
   "source": [
    "mr_bean = Person(name='Mr. Bean', age=44, employed='True', profession='Comedian')"
   ]
  },
  {
   "cell_type": "code",
   "execution_count": 147,
   "metadata": {},
   "outputs": [
    {
     "name": "stdout",
     "output_type": "stream",
     "text": [
      "Hello, my name is Mr. Bean\n",
      "I am 44 years old\n",
      "I am working as a Comedian\n",
      "I am employed\n"
     ]
    }
   ],
   "source": [
    "mr_bean.introduce()"
   ]
  },
  {
   "cell_type": "code",
   "execution_count": 148,
   "metadata": {},
   "outputs": [],
   "source": [
    "# trying it all again\n",
    "jom = Person('Jomari', 22, False, 'influencer')"
   ]
  },
  {
   "cell_type": "code",
   "execution_count": 149,
   "metadata": {},
   "outputs": [
    {
     "name": "stdout",
     "output_type": "stream",
     "text": [
      "Hello, my name is Jomari\n",
      "I am 22 years old\n",
      "I am finding a job\n"
     ]
    }
   ],
   "source": [
    "jom.introduce()"
   ]
  },
  {
   "cell_type": "code",
   "execution_count": null,
   "metadata": {},
   "outputs": [],
   "source": []
  }
 ],
 "metadata": {
  "kernelspec": {
   "display_name": "base",
   "language": "python",
   "name": "python3"
  },
  "language_info": {
   "codemirror_mode": {
    "name": "ipython",
    "version": 3
   },
   "file_extension": ".py",
   "mimetype": "text/x-python",
   "name": "python",
   "nbconvert_exporter": "python",
   "pygments_lexer": "ipython3",
   "version": "3.9.13"
  }
 },
 "nbformat": 4,
 "nbformat_minor": 2
}

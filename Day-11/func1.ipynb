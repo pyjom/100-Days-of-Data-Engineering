{
 "cells": [
  {
   "cell_type": "code",
   "execution_count": 1,
   "metadata": {},
   "outputs": [
    {
     "name": "stdout",
     "output_type": "stream",
     "text": [
      "Hello World\n"
     ]
    }
   ],
   "source": [
    "print('Hello World')"
   ]
  },
  {
   "cell_type": "code",
   "execution_count": null,
   "metadata": {},
   "outputs": [],
   "source": []
  },
  {
   "cell_type": "markdown",
   "metadata": {},
   "source": [
    "Functional Programming\n",
    "\n",
    "1. Pure function = (1) it returns the same output for the same input, (2) does not touch or alter the outside world. Ideally, we want to contain everything in a function where it doesn't need to interact with the outside world"
   ]
  },
  {
   "cell_type": "code",
   "execution_count": 7,
   "metadata": {},
   "outputs": [],
   "source": [
    "# This is not a pure function, as this interact with the outside world using print\n",
    "def multiply1(num):\n",
    "    new_list =[]\n",
    "    for i in num:\n",
    "        new_list.append(i*2)\n",
    "    return print(new_list) # printing to the outside world\n",
    "\n",
    "# This is not a pure function, as this interact with the outside world using the list new_list\n",
    "new_list =[]\n",
    "def multiply2(num):\n",
    "    for i in num:\n",
    "        new_list.append(i*2)\n",
    "    return (new_list) # printing to the outside world\n",
    "\n",
    "# Example of pure function\n",
    "\n",
    "def multiply(num):\n",
    "    new_list =[]\n",
    "    for i in num:\n",
    "        new_list.append(i*2)\n",
    "    return new_list"
   ]
  },
  {
   "cell_type": "code",
   "execution_count": 8,
   "metadata": {},
   "outputs": [
    {
     "name": "stdout",
     "output_type": "stream",
     "text": [
      "[2, 4, 6]\n",
      "None\n",
      "[2, 4, 6]\n",
      "[2, 4, 6]\n"
     ]
    }
   ],
   "source": [
    "print(multiply1([1,2,3]))\n",
    "print(multiply2([1,2,3]))\n",
    "print(multiply([1,2,3]))"
   ]
  },
  {
   "cell_type": "markdown",
   "metadata": {},
   "source": [
    "Commonly used pure functions by programmers\n",
    "1. map = allows you to apply a **function** to all elements of an iterable (like a list, tuple, or string) and returns an iterator containing the transformed elements\n",
    "2. filter = meet a certain condition, the return mostly is boolean\n",
    "3. zip = combining elements from multiple iterables into a single sequence of tuples\n",
    "4. reduce = applies a function cumulatively to all the elements of an iterable, reducing it to a single value. From **functools** module \n",
    "\n",
    "check examples below"
   ]
  },
  {
   "cell_type": "code",
   "execution_count": 11,
   "metadata": {},
   "outputs": [
    {
     "name": "stdout",
     "output_type": "stream",
     "text": [
      "[2, 4, 6]\n"
     ]
    }
   ],
   "source": [
    "# Using map, no need to create new_list and for loops as map will do it for you\n",
    "\n",
    "def multiply(num):\n",
    "    return num*2\n",
    "\n",
    "print(list(map(multiply, [1,2,3])))"
   ]
  },
  {
   "cell_type": "code",
   "execution_count": 13,
   "metadata": {},
   "outputs": [
    {
     "name": "stdout",
     "output_type": "stream",
     "text": [
      "[2, 4, 6]\n",
      "[1, 2, 3]\n"
     ]
    }
   ],
   "source": [
    "# Another pure function\n",
    "mylist = [1,2,3]\n",
    "def multiply(num):\n",
    "    return num*2\n",
    "print(list(map(multiply, mylist))) # we are calling mylist which is from the outside world\n",
    "\n",
    "print(mylist) # we can see that mylist is not affected by the function, does it is still a pure function"
   ]
  },
  {
   "cell_type": "code",
   "execution_count": 8,
   "metadata": {},
   "outputs": [
    {
     "name": "stdout",
     "output_type": "stream",
     "text": [
      "[1, 3]\n",
      "[1, 2, 3]\n"
     ]
    }
   ],
   "source": [
    "# Using filter, creating a function that returns the odd numbers\n",
    "\n",
    "myliist = [1,2,3]\n",
    "def odds(num): # how do we know if a number is odd? if the remainder is not zero.\n",
    "    return num % 2 != 0 # the output is a True or False\n",
    "\n",
    "print(list(filter(odds, mylist)))\n",
    "print(mylist) # mylist is still not affected"
   ]
  },
  {
   "cell_type": "code",
   "execution_count": 12,
   "metadata": {},
   "outputs": [
    {
     "name": "stdout",
     "output_type": "stream",
     "text": [
      "[('isaac', '001', 'england'), ('newton', '002', 'british'), ('einstein', '003', 'atom')]\n"
     ]
    }
   ],
   "source": [
    "# using zip\n",
    "list1 = ['isaac','newton','einstein','bitcoin','silver']\n",
    "list2 = ['001','002','003']\n",
    "list3 = ('england','british','atom')\n",
    "\n",
    "print(list(zip(list1,list2,list3)))"
   ]
  },
  {
   "cell_type": "code",
   "execution_count": 15,
   "metadata": {},
   "outputs": [
    {
     "name": "stdout",
     "output_type": "stream",
     "text": [
      "0 1\n",
      "1 2\n",
      "3 3\n",
      "6\n"
     ]
    }
   ],
   "source": [
    "from functools import reduce\n",
    "mylist = [1,2,3]\n",
    "def accumulator(acc, num):\n",
    "    print(acc, num) \n",
    "    return (acc + num)\n",
    "\n",
    "print(reduce(accumulator, mylist, 0)) # the initial accumulator is zero\n",
    "# in the first iteration, acc is 0, num is 1, then it returns 0+1 =1\n",
    "# in the second iteration, acc is 1 now, num is 2, then  it returns 1+2 =3\n",
    "# in the third iteration, ass is 3 now, num is 3, then it returns 3+3 = 6\n",
    "\n"
   ]
  },
  {
   "cell_type": "markdown",
   "metadata": {},
   "source": [
    "Lambda function = function that is disposable, but it is not that readable"
   ]
  },
  {
   "cell_type": "code",
   "execution_count": 18,
   "metadata": {},
   "outputs": [
    {
     "name": "stdout",
     "output_type": "stream",
     "text": [
      "[2, 4, 6]\n",
      "[2, 4, 6]\n",
      "[1, 3]\n",
      "6\n"
     ]
    }
   ],
   "source": [
    "# Instead of creating the function multiply, just use lambda\n",
    "mylist =[1,2,3]\n",
    "def multiply(num):\n",
    "    return num*2\n",
    "\n",
    "print(list(map(multiply,mylist)))\n",
    "\n",
    "# Using lambda right away\n",
    "print(list(map(lambda num: num*2, mylist)))\n",
    "\n",
    "# Using lambda to filter and find the odd number\n",
    "print(list(filter(lambda num: num %2 != 0, mylist)))\n",
    "\n",
    "# Using lambda with reduce\n",
    "print(reduce(lambda acc, num: acc+num, mylist))"
   ]
  },
  {
   "cell_type": "code",
   "execution_count": 50,
   "metadata": {},
   "outputs": [
    {
     "name": "stdout",
     "output_type": "stream",
     "text": [
      "[1, 4, 9]\n",
      "[(-1, -1), (1, 2), (9, 9), (-10, 19)]\n",
      "[(-1, -1), (1, 2), (9, 9), (-10, 19)]\n"
     ]
    }
   ],
   "source": [
    "# example1. Getting the square\n",
    "mylist =[1,2,3]\n",
    "\n",
    "print(list(map(lambda num: num **2, mylist)))\n",
    "\n",
    "# example2. sorting the list based on the second value of the tuple\n",
    "tup = [(1,2), (-1,-1), (9,9), (-10,19)]\n",
    "\n",
    "print(list(sorted(tup, key=lambda num: num[1])))\n",
    "tup.sort(key=lambda num: num[1])\n",
    "print(tup)"
   ]
  },
  {
   "cell_type": "markdown",
   "metadata": {},
   "source": [
    "List, set, dictionary comprehenssion"
   ]
  },
  {
   "cell_type": "code",
   "execution_count": 56,
   "metadata": {},
   "outputs": [
    {
     "name": "stdout",
     "output_type": "stream",
     "text": [
      "['H', 'e', 'l', 'l', 'o']\n",
      "['H', 'e', 'l', 'l', 'o']\n"
     ]
    }
   ],
   "source": [
    "# normal way\n",
    "mylist =[]\n",
    "for i in 'Hello':\n",
    "    mylist.append(i)\n",
    "\n",
    "print(mylist)\n",
    "\n",
    "# using list comprehenssion\n",
    "mylist = [param for param in 'Hello'] # for loops siya \n",
    "print(mylist)"
   ]
  },
  {
   "cell_type": "code",
   "execution_count": 63,
   "metadata": {},
   "outputs": [
    {
     "name": "stdout",
     "output_type": "stream",
     "text": [
      "[0, 2, 4, 6, 8, 10, 12, 14, 16, 18]\n",
      "[0, 2, 4, 6, 8, 10, 12, 14, 16, 18]\n",
      "[0, 4, 8, 12, 16]\n"
     ]
    }
   ],
   "source": [
    "# multiplying the list using list comprehenssion and lambda\n",
    "mylist2 = [i for i in range(10)]\n",
    "print(list(map(lambda i: i*2, mylist2)))\n",
    "\n",
    "# multiplying the list just using list comprehension\n",
    "mylist2 = [i*2 for i in range(10)]\n",
    "print(mylist2)\n",
    "\n",
    "# multiplying the list but for even numbers only, just using list comprehension\n",
    "mylist2 = [i*2 for i in range(10) if i%2 == 0]\n",
    "print(mylist2)\n"
   ]
  },
  {
   "cell_type": "code",
   "execution_count": 66,
   "metadata": {},
   "outputs": [
    {
     "name": "stdout",
     "output_type": "stream",
     "text": [
      "{0, 4, 8, 12, 16}\n",
      "<class 'set'>\n"
     ]
    }
   ],
   "source": [
    "# using set comprehenssion, just use curly brackets\n",
    "mylist2 = {i*2 for i in range(10) if i%2 == 0}\n",
    "print(mylist2)\n",
    "print(type(mylist2))"
   ]
  },
  {
   "cell_type": "markdown",
   "metadata": {},
   "source": [
    "dictionary comprehension\n",
    "1. Use .items() if you want to access both key and value"
   ]
  },
  {
   "cell_type": "code",
   "execution_count": 84,
   "metadata": {},
   "outputs": [
    {
     "name": "stdout",
     "output_type": "stream",
     "text": [
      "{'Isaac': 80, 'Ranujbyiar': 86}\n",
      "{'Isaac': 160, 'Ranujbyiar': 172}\n",
      "{'Isaac': 90, 'Ranu': 164}\n"
     ]
    }
   ],
   "source": [
    "sample = {\n",
    "    'Isaac':40,\n",
    "    'Ranujbyiar':43\n",
    "}\n",
    "\n",
    "my_dict = {key:value*2 for key, value in sample.items()}\n",
    "print(my_dict)\n",
    "\n",
    "# in case a dictionary is available already, dont need to use .items()\n",
    "my_dict = {value: my_dict[value] * 2 for value in my_dict}\n",
    "print(my_dict)\n",
    "\n",
    "# using zip in case there are two list\n",
    "l1 = ['Isaac', 'Ranu']\n",
    "l2 = [45, 82]\n",
    "\n",
    "my_dict= {key: value *2 for key, value in zip(l1,l2)}\n",
    "print(my_dict)"
   ]
  },
  {
   "cell_type": "code",
   "execution_count": 85,
   "metadata": {},
   "outputs": [
    {
     "name": "stdout",
     "output_type": "stream",
     "text": [
      "{1: 2, 2: 4, 3: 6}\n"
     ]
    }
   ],
   "source": [
    "# example2. item is the key, multiply by 2 is the value\n",
    "# list = [1,2,3]\n",
    "# dict = {1:1, 2:4, 3:6} just like this\n",
    "\n",
    "my_dict = {key:key*2 for key in [1,2,3]}\n",
    "print(my_dict)"
   ]
  },
  {
   "cell_type": "code",
   "execution_count": 89,
   "metadata": {},
   "outputs": [
    {
     "name": "stdout",
     "output_type": "stream",
     "text": [
      "['m', 'i', 's', 's', 'i', 's', 's', 'i', 'p', 'p', 'i']\n"
     ]
    }
   ],
   "source": [
    "dupli = [i for i in 'mississippi']\n",
    "print(dupli)"
   ]
  },
  {
   "cell_type": "code",
   "execution_count": 106,
   "metadata": {},
   "outputs": [
    {
     "name": "stdout",
     "output_type": "stream",
     "text": [
      "['p', 'i', 's']\n"
     ]
    }
   ],
   "source": [
    "dupli = list({i for i in 'mississippi' if 'mississippi'.count(i) > 1})\n",
    "print(dupli)"
   ]
  },
  {
   "cell_type": "markdown",
   "metadata": {},
   "source": [
    "Regular Expressions\n",
    "\n",
    "Common functions\n",
    "1. findall = extract all matches from a string for further processing.\n",
    "2. search = only need the first occurrence \n",
    "3. split\n",
    "4. sub\n"
   ]
  },
  {
   "cell_type": "code",
   "execution_count": null,
   "metadata": {},
   "outputs": [
    {
     "ename": "",
     "evalue": "",
     "output_type": "error",
     "traceback": [
      "\u001b[1;31mFailed to start the Kernel. \n",
      "\u001b[1;31mUnable to start Kernel 'base (Python 3.9.13)' due to a connection timeout. \n",
      "\u001b[1;31mView Jupyter <a href='command:jupyter.viewOutput'>log</a> for further details."
     ]
    }
   ],
   "source": [
    "import re"
   ]
  },
  {
   "cell_type": "code",
   "execution_count": null,
   "metadata": {},
   "outputs": [
    {
     "ename": "",
     "evalue": "",
     "output_type": "error",
     "traceback": [
      "\u001b[1;31mFailed to start the Kernel. \n",
      "\u001b[1;31mUnable to start Kernel 'base (Python 3.9.13)' due to a connection timeout. \n",
      "\u001b[1;31mView Jupyter <a href='command:jupyter.viewOutput'>log</a> for further details."
     ]
    }
   ],
   "source": [
    "print('Hello World')"
   ]
  },
  {
   "cell_type": "code",
   "execution_count": null,
   "metadata": {},
   "outputs": [
    {
     "ename": "",
     "evalue": "",
     "output_type": "error",
     "traceback": [
      "\u001b[1;31mFailed to start the Kernel. \n",
      "\u001b[1;31mUnable to start Kernel 'base (Python 3.9.13)' due to a connection timeout. \n",
      "\u001b[1;31mView Jupyter <a href='command:jupyter.viewOutput'>log</a> for further details."
     ]
    }
   ],
   "source": []
  },
  {
   "cell_type": "code",
   "execution_count": null,
   "metadata": {},
   "outputs": [],
   "source": []
  }
 ],
 "metadata": {
  "kernelspec": {
   "display_name": "base",
   "language": "python",
   "name": "python3"
  },
  "language_info": {
   "codemirror_mode": {
    "name": "ipython",
    "version": 3
   },
   "file_extension": ".py",
   "mimetype": "text/x-python",
   "name": "python",
   "nbconvert_exporter": "python",
   "pygments_lexer": "ipython3",
   "version": "3.9.13"
  }
 },
 "nbformat": 4,
 "nbformat_minor": 2
}

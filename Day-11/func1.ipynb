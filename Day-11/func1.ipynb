{
 "cells": [
  {
   "cell_type": "code",
   "execution_count": 1,
   "metadata": {},
   "outputs": [
    {
     "name": "stdout",
     "output_type": "stream",
     "text": [
      "Hello World\n"
     ]
    }
   ],
   "source": [
    "print('Hello World')"
   ]
  },
  {
   "cell_type": "markdown",
   "metadata": {},
   "source": [
    "Functional Programming\n",
    "\n",
    "1. Pure function = (1) it returns the same output for the same input, (2) does not touch or alter the outside world. Ideally, we want to contain everything in a function where it doesn't need to interact with the outside world"
   ]
  },
  {
   "cell_type": "code",
   "execution_count": 7,
   "metadata": {},
   "outputs": [],
   "source": [
    "# This is not a pure function, as this interact with the outside world using print\n",
    "def multiply1(num):\n",
    "    new_list =[]\n",
    "    for i in num:\n",
    "        new_list.append(i*2)\n",
    "    return print(new_list) # printing to the outside world\n",
    "\n",
    "# This is not a pure function, as this interact with the outside world using the list new_list\n",
    "new_list =[]\n",
    "def multiply2(num):\n",
    "    for i in num:\n",
    "        new_list.append(i*2)\n",
    "    return (new_list) # printing to the outside world\n",
    "\n",
    "# Example of pure function\n",
    "\n",
    "def multiply(num):\n",
    "    new_list =[]\n",
    "    for i in num:\n",
    "        new_list.append(i*2)\n",
    "    return new_list"
   ]
  },
  {
   "cell_type": "code",
   "execution_count": 8,
   "metadata": {},
   "outputs": [
    {
     "name": "stdout",
     "output_type": "stream",
     "text": [
      "[2, 4, 6]\n",
      "None\n",
      "[2, 4, 6]\n",
      "[2, 4, 6]\n"
     ]
    }
   ],
   "source": [
    "print(multiply1([1,2,3]))\n",
    "print(multiply2([1,2,3]))\n",
    "print(multiply([1,2,3]))"
   ]
  },
  {
   "cell_type": "markdown",
   "metadata": {},
   "source": [
    "Commonly used pure functions by programmers\n",
    "1. map = allows you to apply a **function** to all elements of an iterable (like a list, tuple, or string) and returns an iterator containing the transformed elements\n",
    "2. filter = meet a certain condition, the return mostly is boolean\n",
    "3. zip = combining elements from multiple iterables into a single sequence of tuples\n",
    "4. reduce = applies a function cumulatively to all the elements of an iterable, reducing it to a single value. From **functools** module \n",
    "\n",
    "check examples below"
   ]
  },
  {
   "cell_type": "code",
   "execution_count": 11,
   "metadata": {},
   "outputs": [
    {
     "name": "stdout",
     "output_type": "stream",
     "text": [
      "[2, 4, 6]\n"
     ]
    }
   ],
   "source": [
    "# Using map, no need to create new_list and for loops as map will do it for you\n",
    "\n",
    "def multiply(num):\n",
    "    return num*2\n",
    "\n",
    "print(list(map(multiply, [1,2,3])))"
   ]
  },
  {
   "cell_type": "code",
   "execution_count": 13,
   "metadata": {},
   "outputs": [
    {
     "name": "stdout",
     "output_type": "stream",
     "text": [
      "[2, 4, 6]\n",
      "[1, 2, 3]\n"
     ]
    }
   ],
   "source": [
    "# Another pure function\n",
    "mylist = [1,2,3]\n",
    "def multiply(num):\n",
    "    return num*2\n",
    "print(list(map(multiply, mylist))) # we are calling mylist which is from the outside world\n",
    "\n",
    "print(mylist) # we can see that mylist is not affected by the function, does it is still a pure function"
   ]
  },
  {
   "cell_type": "code",
   "execution_count": 8,
   "metadata": {},
   "outputs": [
    {
     "name": "stdout",
     "output_type": "stream",
     "text": [
      "[1, 3]\n",
      "[1, 2, 3]\n"
     ]
    }
   ],
   "source": [
    "# Using filter, creating a function that returns the odd numbers\n",
    "\n",
    "myliist = [1,2,3]\n",
    "def odds(num): # how do we know if a number is odd? if the remainder is not zero.\n",
    "    return num % 2 != 0 # the output is a True or False\n",
    "\n",
    "print(list(filter(odds, mylist)))\n",
    "print(mylist) # mylist is still not affected"
   ]
  },
  {
   "cell_type": "code",
   "execution_count": 12,
   "metadata": {},
   "outputs": [
    {
     "name": "stdout",
     "output_type": "stream",
     "text": [
      "[('isaac', '001', 'england'), ('newton', '002', 'british'), ('einstein', '003', 'atom')]\n"
     ]
    }
   ],
   "source": [
    "# using zip\n",
    "list1 = ['isaac','newton','einstein','bitcoin','silver']\n",
    "list2 = ['001','002','003']\n",
    "list3 = ('england','british','atom')\n",
    "\n",
    "print(list(zip(list1,list2,list3)))"
   ]
  },
  {
   "cell_type": "code",
   "execution_count": 15,
   "metadata": {},
   "outputs": [
    {
     "name": "stdout",
     "output_type": "stream",
     "text": [
      "0 1\n",
      "1 2\n",
      "3 3\n",
      "6\n"
     ]
    }
   ],
   "source": [
    "from functools import reduce\n",
    "mylist = [1,2,3]\n",
    "def accumulator(acc, num):\n",
    "    print(acc, num) \n",
    "    return (acc + num)\n",
    "\n",
    "print(reduce(accumulator, mylist, 0)) # the initial accumulator is zero\n",
    "# in the first iteration, acc is 0, num is 1, then it returns 0+1 =1\n",
    "# in the second iteration, acc is 1 now, num is 2, then  it returns 1+2 =3\n",
    "# in the third iteration, ass is 3 now, num is 3, then it returns 3+3 = 6\n",
    "\n"
   ]
  },
  {
   "cell_type": "code",
   "execution_count": null,
   "metadata": {},
   "outputs": [],
   "source": []
  }
 ],
 "metadata": {
  "kernelspec": {
   "display_name": "base",
   "language": "python",
   "name": "python3"
  },
  "language_info": {
   "codemirror_mode": {
    "name": "ipython",
    "version": 3
   },
   "file_extension": ".py",
   "mimetype": "text/x-python",
   "name": "python",
   "nbconvert_exporter": "python",
   "pygments_lexer": "ipython3",
   "version": "3.9.13"
  }
 },
 "nbformat": 4,
 "nbformat_minor": 2
}
